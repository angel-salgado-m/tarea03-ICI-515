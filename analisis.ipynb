{
 "cells": [
  {
   "cell_type": "markdown",
   "metadata": {},
   "source": [
    "# Experimentos con el simulador.\n",
    "\n",
    "Se tiene la pregunta de investigación:\n",
    "¿Cómo afecta la cantidad de cajas al tiempo de servicio?\n",
    "\n",
    "De la cual salen las siguientes hipótesis:\n",
    "- *H0*: El número de cajas influye en el tiempo de servicio del minimarket\n",
    "- *H1*: El número de cajas no influye en el tiempo de servicio del minimarket.\n",
    "\n",
    "Para responder a la pregunta de investigación y finalmente probar una de las hipótesis mencionadas, es necesario definir los experimentos a realizar para su posterior análisis y concluir respuestas.\n",
    "\n",
    "## Definición de experimentos\n",
    "\n",
    "Se tiene que la variable independiente es la cantidad de cajas (***numCajas***) y la variable dependiente de salida para los experimentos es el tiempo de servicio.\n",
    "Se tomará como base una cantidad constante de 500 clientes o trabajos a realizar en el simulador, para todos los experimentos.\n",
    "\n",
    "### Intervalo de Confianza\n",
    "\n",
    "Se espera un intervalo de confianza del 95% lo que equivale a un nivel de significancia ($\\alpha$) de 0.05\n",
    "\n",
    "Posteriormente se obtiene el valor crítico para este intervalo.\n",
    "\n",
    "Z_(1-($\\alpha$/2)) = 1.96\n",
    "\n",
    "### Precision\n",
    "\n",
    "Considerando las salidas iniciales del simulador, se define una precisión ($\\phi$) de al menos ±1000 unidades de tiempo para las estimaciones.\n",
    "\n",
    "### Desviación estándar\n",
    "\n",
    "Se calcula la desviación estandar para obtener finalmente el número de simulaciones"
   ]
  }
 ],
 "metadata": {
  "language_info": {
   "name": "python"
  }
 },
 "nbformat": 4,
 "nbformat_minor": 2
}
